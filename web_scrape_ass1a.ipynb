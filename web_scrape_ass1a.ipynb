{
 "cells": [
  {
   "cell_type": "code",
   "execution_count": 12,
   "metadata": {},
   "outputs": [
    {
     "name": "stdout",
     "output_type": "stream",
     "text": [
      "School data is Sussessfully Extracted\n"
     ]
    }
   ],
   "source": [
    "import requests\n",
    "from bs4 import BeautifulSoup as bs\n",
    "import pandas as pd\n",
    "\n",
    "url = \"https://www.technoindiauniversity.ac.in/\"\n",
    "response = requests.get(url)\n",
    "soup = bs(response.content, 'html.parser')\n",
    "data = soup.find_all('div',class_ ='single-content')\n",
    "\n",
    "records =[]\n",
    "for lists in data:\n",
    "\n",
    "    schoolnm = lists.find('a').text\n",
    "    dessc = lists.find('p').text\n",
    "    records.append((schoolnm, dessc))\n",
    "\n",
    "df = pd.DataFrame(records, columns = ['school', 'description'])\n",
    "df.to_csv('Assignment1.csv')\n",
    "print('School data is Sussessfully Extracted')\n"
   ]
  },
  {
   "cell_type": "code",
   "execution_count": 1,
   "metadata": {},
   "outputs": [
    {
     "name": "stdout",
     "output_type": "stream",
     "text": [
      "[('School ofEngineering', 'The Department of Engineering at Techno India University, West Bengal is a conglomeration of multiple disciplines with separate '), ('School ofArchitecture', 'The Architecture major establishes an intellectual context for the students to interpret the relation of form, space, program, '), ('School ofPharmacy', 'The School of Pharmacy was established with a view to promote center of excellence in pharmaceutical education and to prepare'), ('School ofScience', 'The Department of Science at Techno India University, West Bengal is a conglomeration of multiple disciplines with separate '), ('School of Computer Application', 'The concepts of computer science are applicable to many aspects of our lives, from investigations in the scientific and medical'), ('School of Management', 'In the era of globalization, disruptive technological change, School of Management, Techno India University, West Bengal'), ('School ofHumanities', '\"Today and always, there will be an obligation to pass on to the new generation the tradition of liberal '), ('School ofLaw', 'The work of a lawyer is broad in scope as there is no singular occupation designated to the title. A wide range of alternatives is available,allowing'), ('School ofCommerce', 'The Commerce department at Techno India University, West Bengal aims to teach students in different domains of Commerce, Finance and'), ('School ofNursing', 'Nursing is a basic course to introduce students to all aspects of general healthcare and unique proficiency.')]\n"
     ]
    }
   ],
   "source": [
    "import requests\n",
    "from bs4 import BeautifulSoup as bs\n",
    "\n",
    "url = \"https://www.technoindiauniversity.ac.in/\"\n",
    "response = requests.get(url)\n",
    "soup = bs(response.content, 'html.parser')\n",
    "data = soup.find_all('div',class_ ='single-content')\n",
    "\n",
    "result =[]\n",
    "for i in data:\n",
    "    s_name = i.find('a').text\n",
    "    details = i.find('p').text\n",
    "    result.append((s_name, details))\n",
    "print(result)"
   ]
  },
  {
   "cell_type": "code",
   "execution_count": null,
   "metadata": {},
   "outputs": [],
   "source": []
  }
 ],
 "metadata": {
  "kernelspec": {
   "display_name": "Python 3",
   "language": "python",
   "name": "python3"
  },
  "language_info": {
   "codemirror_mode": {
    "name": "ipython",
    "version": 3
   },
   "file_extension": ".py",
   "mimetype": "text/x-python",
   "name": "python",
   "nbconvert_exporter": "python",
   "pygments_lexer": "ipython3",
   "version": "3.11.2"
  },
  "orig_nbformat": 4
 },
 "nbformat": 4,
 "nbformat_minor": 2
}
